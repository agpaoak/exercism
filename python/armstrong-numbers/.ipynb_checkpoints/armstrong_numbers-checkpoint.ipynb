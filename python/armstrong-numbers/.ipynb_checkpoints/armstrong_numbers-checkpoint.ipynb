{
 "cells": [
  {
   "cell_type": "code",
   "execution_count": 1,
   "metadata": {},
   "outputs": [],
   "source": [
    "def is_armstrong_number(number):\n",
    "    stringify = str(sample3)\n",
    "    power = len(stringify)\n",
    "    powers = []\n",
    "\n",
    "\n",
    "    for base in stringify:\n",
    "        value = int(math.pow(int(base), power))\n",
    "        print(f'Base: {base} - Power: {power} - Value: {value}')\n",
    "        powers.append(value)\n",
    "        \n",
    "    return number == sum(powers)\n",
    "\n"
   ]
  },
  {
   "cell_type": "code",
   "execution_count": 35,
   "metadata": {},
   "outputs": [
    {
     "name": "stdout",
     "output_type": "stream",
     "text": [
      "Base: 1 - Power: 3 - Value: 1\n",
      "Base: 5 - Power: 3 - Value: 125\n",
      "Base: 3 - Power: 3 - Value: 27\n",
      "153\n"
     ]
    }
   ],
   "source": [
    "import math\n",
    "\n",
    "sample1 = 9\n",
    "sample2 = 10\n",
    "sample3 = 153\n",
    "sample4 = 154\n",
    "\n",
    "stringify = str(sample3)\n",
    "power = len(stringify)\n",
    "powers = []\n",
    "\n",
    "\n",
    "for base in stringify:\n",
    "    value = int(math.pow(int(base), power))\n",
    "    print(f'Base: {base} - Power: {power} - Value: {value}')\n",
    "    powers.append(value)\n",
    "\n",
    "#need sum\n",
    "#need power\n",
    "# floor?\n",
    "\n",
    "print(sum(powers) )"
   ]
  }
 ],
 "metadata": {
  "kernelspec": {
   "display_name": "Python 3",
   "language": "python",
   "name": "python3"
  },
  "language_info": {
   "codemirror_mode": {
    "name": "ipython",
    "version": 3
   },
   "file_extension": ".py",
   "mimetype": "text/x-python",
   "name": "python",
   "nbconvert_exporter": "python",
   "pygments_lexer": "ipython3",
   "version": "3.8.3"
  }
 },
 "nbformat": 4,
 "nbformat_minor": 4
}
