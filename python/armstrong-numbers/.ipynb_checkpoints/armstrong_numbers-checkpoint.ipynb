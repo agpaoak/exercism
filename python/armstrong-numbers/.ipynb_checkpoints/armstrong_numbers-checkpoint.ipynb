{
 "cells": [
  {
   "cell_type": "code",
   "execution_count": 51,
   "metadata": {},
   "outputs": [],
   "source": [
    "def is_armstrong_number(number):\n",
    "    stringify = str(number)\n",
    "    power = len(stringify)\n",
    "    powers = []\n",
    "\n",
    "\n",
    "    for base in stringify:\n",
    "        value = int(math.pow(int(base), power))\n",
    "        powers.append(value)\n",
    "        \n",
    "    return number == sum(powers)\n",
    "\n"
   ]
  },
  {
   "cell_type": "code",
   "execution_count": 56,
   "metadata": {},
   "outputs": [],
   "source": [
    "import math\n",
    "\n",
    "def is_armstrong_number(number):\n",
    "    stringify = str(number)\n",
    "    power = len(stringify)\n",
    "    powers = [int(math.pow(int(base), power)) for base in stringify]\n",
    " \n",
    "    return number == sum(powers)"
   ]
  },
  {
   "cell_type": "code",
   "execution_count": 57,
   "metadata": {},
   "outputs": [
    {
     "name": "stdout",
     "output_type": "stream",
     "text": [
      "True\n",
      "False\n",
      "True\n",
      "False\n"
     ]
    }
   ],
   "source": [
    "import math\n",
    "\n",
    "sample1 = 9\n",
    "sample2 = 10\n",
    "sample3 = 153\n",
    "sample4 = 154\n",
    "\n",
    "sample = [sample1, sample2, sample3, sample4]\n",
    "\n",
    "\n",
    "for s in sample:\n",
    "    print(is_armstrong_number(s))\n",
    "    "
   ]
  }
 ],
 "metadata": {
  "kernelspec": {
   "display_name": "Python 3",
   "language": "python",
   "name": "python3"
  },
  "language_info": {
   "codemirror_mode": {
    "name": "ipython",
    "version": 3
   },
   "file_extension": ".py",
   "mimetype": "text/x-python",
   "name": "python",
   "nbconvert_exporter": "python",
   "pygments_lexer": "ipython3",
   "version": "3.8.3"
  }
 },
 "nbformat": 4,
 "nbformat_minor": 4
}
