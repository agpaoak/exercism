{
 "cells": [
  {
   "cell_type": "code",
   "execution_count": 51,
   "metadata": {},
   "outputs": [],
   "source": [
    "def is_armstrong_number(number):\n",
    "    stringify = str(number)\n",
    "    power = len(stringify)\n",
    "    powers = []\n",
    "\n",
    "\n",
    "    for base in stringify:\n",
    "        value = int(math.pow(int(base), power))\n",
    "        powers.append(value)\n",
    "        \n",
    "    return number == sum(powers)\n",
    "\n"
   ]
  },
  {
   "cell_type": "code",
   "execution_count": 56,
   "metadata": {},
   "outputs": [],
   "source": [
    "import math\n",
    "\n",
    "def is_armstrong_number(number):\n",
    "    stringify = str(number)\n",
    "    power = len(stringify)\n",
    "    powers = [int(math.pow(int(base), power)) for base in stringify]\n",
    " \n",
    "    return number == sum(powers)"
   ]
  },
  {
   "cell_type": "code",
<<<<<<< HEAD
   "execution_count": 58,
=======
   "execution_count": 65,
>>>>>>> aa8f6a0f4d7fce39a5617010c5e6afb60d1da0c9
   "metadata": {},
   "outputs": [
    {
     "name": "stdout",
     "output_type": "stream",
     "text": [
      "True\n",
      "False\n",
      "True\n",
      "False\n"
     ]
    }
   ],
   "source": [
    "import math\n",
    "\n",
    "sample1 = 9\n",
    "sample2 = 10\n",
    "sample3 = 153\n",
    "sample4 = 154\n",
    "\n",
    "sample = [sample1, sample2, sample3, sample4]\n",
    "\n",
    "\n",
    "for s in sample:\n",
    "    print(is_armstrong_number(s))\n",
    "    "
   ]
  },
  {
   "cell_type": "code",
   "execution_count": 63,
   "metadata": {},
   "outputs": [
    {
     "name": "stdout",
     "output_type": "stream",
     "text": [
      "[1, 2, 3, 4, 5, 6, 7, 8, 9, 0]\n"
     ]
    }
   ],
   "source": [
    "num = 1234567890\n",
    "mapped = map(int, str(num))\n",
    "\n",
    "print(list(mapped))"
   ]
  },
  {
   "cell_type": "code",
<<<<<<< HEAD
   "execution_count": null,
=======
   "execution_count": 64,
>>>>>>> aa8f6a0f4d7fce39a5617010c5e6afb60d1da0c9
   "metadata": {},
   "outputs": [],
   "source": [
    "import math\n",
    "\n",
    "def is_armstrong_number(number):\n",
<<<<<<< HEAD
    "    num_list = list(map(int, nu))\n",
    "    power = len(stringify)\n",
    "    powers = [int(math.pow(int(base), power)) for base in stringify]\n",
=======
    "    num_list = list(map(int, str(number)))\n",
    "    power = len(num_list)\n",
    "    powers = [int(math.pow(base, power)) for base in num_list]\n",
>>>>>>> aa8f6a0f4d7fce39a5617010c5e6afb60d1da0c9
    " \n",
    "    return number == sum(powers)"
   ]
  }
 ],
 "metadata": {
  "kernelspec": {
   "display_name": "Python 3",
   "language": "python",
   "name": "python3"
  },
  "language_info": {
   "codemirror_mode": {
    "name": "ipython",
    "version": 3
   },
   "file_extension": ".py",
   "mimetype": "text/x-python",
   "name": "python",
   "nbconvert_exporter": "python",
   "pygments_lexer": "ipython3",
   "version": "3.8.3"
  }
 },
 "nbformat": 4,
 "nbformat_minor": 4
}
