{
 "cells": [
  {
   "cell_type": "code",
   "execution_count": 38,
   "metadata": {},
   "outputs": [
    {
     "name": "stdout",
     "output_type": "stream",
     "text": [
      "True\n",
      "True\n"
     ]
    }
   ],
   "source": [
    "import re\n",
    "\n",
    "def is_isogram(string):\n",
    "    \n",
    "    normalize = re.sub('[^a-z]', '',string.lower())\n",
    "    normalize = normalize.lower()\n",
    "    \n",
    "    for c in normalize:\n",
    "        if normalize.lower().count(c) > 1:\n",
    "            return False\n",
    "    return True\n",
    "\n",
    "print(is_isogram(\"Emily Jung Schwartzkopf\"))\n",
    "print(is_isogram(\"six-year-old\"))"
   ]
  },
  {
   "cell_type": "code",
   "execution_count": 50,
   "metadata": {},
   "outputs": [
    {
     "name": "stdout",
     "output_type": "stream",
     "text": [
      "milyungchwartzkopf\n",
      "Emily Jung Schwartzkopf\n"
     ]
    }
   ],
   "source": [
    "string = \"Emily Jung Schwartzkopf\"\n",
    "normalize = re.sub('[^a-z]', '',string)\n",
    "print(normalize)\n",
    "print(string)"
   ]
  }
 ],
 "metadata": {
  "kernelspec": {
   "display_name": "Python 3",
   "language": "python",
   "name": "python3"
  },
  "language_info": {
   "codemirror_mode": {
    "name": "ipython",
    "version": 3
   },
   "file_extension": ".py",
   "mimetype": "text/x-python",
   "name": "python",
   "nbconvert_exporter": "python",
   "pygments_lexer": "ipython3",
   "version": "3.8.3"
  }
 },
 "nbformat": 4,
 "nbformat_minor": 4
}
