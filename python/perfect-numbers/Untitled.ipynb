{
 "cells": [
  {
   "cell_type": "code",
   "execution_count": 38,
   "metadata": {},
   "outputs": [],
   "source": [
    "import math\n",
    "\n",
    "\n",
    "def classify(number):\n",
    "    \n",
    "    if number <= 0:\n",
    "        raise ValueError\n",
    "    factors = []\n",
    "    aliquot_sum = None\n",
    "    n = 1\n",
    "\n",
    "    while n**2 <= number:\n",
    "        if number % n == 0 and n not in factors:\n",
    "            print(f'{n} added')\n",
    "            factors.append(n)\n",
    "            \n",
    "            i = number//n\n",
    "            \n",
    "            if number % i == 0 and i != number and i not in factors:\n",
    "                print(f'{i} added')\n",
    "                factors.append(i)\n",
    "        n += 1\n",
    "    aliquot_sum = sum(factors)\n",
    "    if aliquot_sum == number:\n",
    "        return 'perfect'\n",
    "    elif aliquot_sum > number:\n",
    "        return 'abundant'\n",
    "    elif aliquot_sum < number:\n",
    "        return 'deficient'\n"
   ]
  },
  {
   "cell_type": "code",
   "execution_count": 41,
   "metadata": {},
   "outputs": [
    {
     "name": "stdout",
     "output_type": "stream",
     "text": [
      "1 added\n"
     ]
    },
    {
     "data": {
      "text/plain": [
       "'perfect'"
      ]
     },
     "execution_count": 41,
     "metadata": {},
     "output_type": "execute_result"
    }
   ],
   "source": [
    "classify(1)"
   ]
  },
  {
   "cell_type": "code",
   "execution_count": 49,
   "metadata": {},
   "outputs": [
    {
     "data": {
      "text/plain": [
       "[1, 2, 3, 4]"
      ]
     },
     "execution_count": 49,
     "metadata": {},
     "output_type": "execute_result"
    }
   ],
   "source": [
    "nums = [1,2,3,4,5]\n",
    "\n",
    "\n",
    "i = nums.index(5)\n",
    "nums.pop(i)\n",
    "nums"
   ]
  }
 ],
 "metadata": {
  "kernelspec": {
   "display_name": "Python 3",
   "language": "python",
   "name": "python3"
  },
  "language_info": {
   "codemirror_mode": {
    "name": "ipython",
    "version": 3
   },
   "file_extension": ".py",
   "mimetype": "text/x-python",
   "name": "python",
   "nbconvert_exporter": "python",
   "pygments_lexer": "ipython3",
   "version": "3.8.3"
  }
 },
 "nbformat": 4,
 "nbformat_minor": 4
}
