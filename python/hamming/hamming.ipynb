{
 "cells": [
  {
   "cell_type": "code",
   "execution_count": 18,
   "metadata": {},
   "outputs": [],
   "source": [
    "def distance(strand_a, strand_b):\n",
    "    \n",
    "    assert len(strand_a) == len(strand_b)\n",
    "    return sum(1 for a, b in zip(strand_a, strand_b) if a != b)\n"
   ]
  },
  {
   "cell_type": "code",
   "execution_count": 26,
   "metadata": {},
   "outputs": [
    {
     "name": "stdout",
     "output_type": "stream",
     "text": [
      "G:C\n",
      "A:A\n",
      "G:T\n",
      "C:C\n",
      "C:G\n",
      "T:T\n",
      "A:A\n",
      "C:A\n",
      "T:T\n",
      "A:G\n",
      "A:A\n",
      "C:C\n",
      "G:G\n",
      "G:G\n",
      "G:C\n",
      "A:C\n",
      "T:T\n",
      "(('G', 'C'), ('A', 'A'), ('G', 'T'), ('C', 'C'), ('C', 'G'), ('T', 'T'), ('A', 'A'), ('C', 'A'), ('T', 'T'), ('A', 'G'), ('A', 'A'), ('C', 'C'), ('G', 'G'), ('G', 'G'), ('G', 'C'), ('A', 'C'), ('T', 'T'))\n"
     ]
    }
   ],
   "source": [
    "strand_a = 'GAGCCTACTAACGGGAT'\n",
    "strand_b = 'CATCGTAATGACGGCCT'\n",
    "\n",
    "distance(strand_a, strand_b)\n",
    "\n",
    "for a,b in zip(strand_a, strand_b):\n",
    "    print(f'{a}:{b}')\n",
    "\n",
    "print(tuple(zip(strand_a, strand_b)))\n"
   ]
  }
 ],
 "metadata": {
  "kernelspec": {
   "display_name": "Python 3",
   "language": "python",
   "name": "python3"
  },
  "language_info": {
   "codemirror_mode": {
    "name": "ipython",
    "version": 3
   },
   "file_extension": ".py",
   "mimetype": "text/x-python",
   "name": "python",
   "nbconvert_exporter": "python",
   "pygments_lexer": "ipython3",
   "version": "3.8.3"
  }
 },
 "nbformat": 4,
 "nbformat_minor": 4
}
