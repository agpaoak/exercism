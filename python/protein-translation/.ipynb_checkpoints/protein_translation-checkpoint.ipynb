{
 "cells": [
  {
   "cell_type": "code",
   "execution_count": 11,
   "metadata": {},
   "outputs": [],
   "source": [
    "def proteins(strand):\n",
    "    S_LENGTH = 3\n",
    "    \n",
    "    protein_list = {\n",
    "        'Methionine': ['AUG '],                  \n",
    "        'Phenylalanine': [ 'UUU','UUC'],          \n",
    "        'Leucine': ['UUA', 'UUG' ],             \n",
    "        'Serine': ['UCU', 'UCC', 'UCA', 'UCG'],  \n",
    "        'Tyrosine': ['UAU', 'UAC'] ,            \n",
    "        'Cysteine': ['UGU', 'UGC'],              \n",
    "        'Tryptophan': ['UGG'],               \n",
    "        'STOP': ['UAA', 'UAG', 'UGA']         \n",
    "\n",
    "    }\n",
    "    \n",
    "    strands = [strand[n:n + s_length] for n in range(0, len(strand), S_LENGTH)]\n",
    "    \n",
    "    proteins = []\n",
    "    run = True\n",
    "    \n",
    "    for strand in strands:\n",
    "        \n",
    "        if run:\n",
    "            for protein, codon in protein_list.items():\n",
    "                if strand in codon and protein == 'STOP':\n",
    "                    run = False\n",
    "                elif protein not in proteins and strand in codon:\n",
    "                    proteins.append(protein)\n",
    "    \n",
    "    return proteins\n"
   ]
  },
  {
   "cell_type": "code",
   "execution_count": 36,
   "metadata": {},
   "outputs": [
    {
     "name": "stdout",
     "output_type": "stream",
     "text": [
      "['AUG', 'UUU', 'UCU']\n"
     ]
    }
   ],
   "source": [
    "strand = \"AUGUUUUCU\"\n",
    "print(proteins(strand))"
   ]
  },
  {
   "cell_type": "code",
   "execution_count": 35,
   "metadata": {},
   "outputs": [
    {
     "name": "stdout",
     "output_type": "stream",
     "text": [
      "['UUA', 'UUG']\n"
     ]
    }
   ],
   "source": [
    "\n",
    "\n",
    "print(protein_list['Leucine'])"
   ]
  },
  {
   "cell_type": "code",
   "execution_count": 3,
   "metadata": {},
   "outputs": [],
   "source": [
    "def proteins(strand):\n",
    "    S_LENGTH = 3\n",
    "    \n",
    "    protein_list = {\n",
    "        'Methionine': ['AUG '],                  \n",
    "        'Phenylalanine': [ 'UUU','UUC'],          \n",
    "        'Leucine': ['UUA', 'UUG' ],             \n",
    "        'Serine': ['UCU', 'UCC', 'UCA', 'UCG'],  \n",
    "        'Tyrosine': ['UAU', 'UAC'] ,            \n",
    "        'Cysteine': ['UGU', 'UGC'],              \n",
    "        'Tryptophan': ['UGG'],               \n",
    "        'STOP': ['UAA', 'UAG', 'UGA']         \n",
    "\n",
    "    }\n",
    "    \n",
    "    strands = [strand[n:n + S_LENGTH] for n in range(0, len(strand), S_LENGTH)]\n",
    "    \n",
    "    proteins = []\n",
    "    run = True\n",
    "    \n",
    "    for strand in strands:\n",
    "        print(strand)\n",
    "        if run:\n",
    "            for protein, codon in protein_list.items():\n",
    "                \n",
    "                print(f'{strand} - {protein}: {codon}')\n",
    "                \n",
    "                if strand in codon and protein != 'STOP':\n",
    "                    proteins.append(protein)\n",
    "    \n",
    "                elif strand in codon and protein == 'STOP':\n",
    "                    run = False\n",
    "    \n",
    "    return proteins\n"
   ]
  },
  {
   "cell_type": "code",
   "execution_count": 4,
   "metadata": {},
   "outputs": [
    {
     "data": {
      "text/plain": [
       "['Phenylalanine', 'Serine']"
      ]
     },
     "execution_count": 4,
     "metadata": {},
     "output_type": "execute_result"
    }
   ],
   "source": [
    "proteins(\"AUGUUUUCUUAAAUG\")"
   ]
  }
 ],
 "metadata": {
  "kernelspec": {
   "display_name": "Python 3",
   "language": "python",
   "name": "python3"
  },
  "language_info": {
   "codemirror_mode": {
    "name": "ipython",
    "version": 3
   },
   "file_extension": ".py",
   "mimetype": "text/x-python",
   "name": "python",
   "nbconvert_exporter": "python",
   "pygments_lexer": "ipython3",
   "version": "3.8.3"
  }
 },
 "nbformat": 4,
 "nbformat_minor": 4
}
