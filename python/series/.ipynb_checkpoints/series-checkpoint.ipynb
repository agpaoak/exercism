{
 "cells": [
  {
   "cell_type": "code",
   "execution_count": 58,
   "metadata": {},
   "outputs": [],
   "source": [
    "def slices(series, length):\n",
    "    if length <= 0:\n",
    "        raise ValueError('Length cannot be 0 or less.')\n",
    "    elif not series:\n",
    "        raise ValueError('Series cannot be empty')\n",
    "    elif length > len(series):\n",
    "        raise ValueError('Length cannot be greater than the length of Series')\n",
    "    elif len(series) >= length:        \n",
    "        sliced = []\n",
    "        for n in range(len(series)):\n",
    "            value = series[n:n+length]\n",
    "            if len(value) == length:\n",
    "                sliced.append(value)\n",
    "            else:\n",
    "                break   \n",
    "        return sliced"
   ]
  },
  {
   "cell_type": "code",
   "execution_count": 59,
   "metadata": {},
   "outputs": [
    {
     "name": "stdout",
     "output_type": "stream",
     "text": [
      "49\n",
      "Value: 43\n",
      "Value: 3\n",
      "['43']\n"
     ]
    }
   ],
   "source": [
    "string1 = \"49142\"\n",
    "\n",
    "print(string1[0:2])\n",
    "\n",
    "print(slices(\"43\", 2))"
   ]
  }
 ],
 "metadata": {
  "kernelspec": {
   "display_name": "Python 3",
   "language": "python",
   "name": "python3"
  },
  "language_info": {
   "codemirror_mode": {
    "name": "ipython",
    "version": 3
   },
   "file_extension": ".py",
   "mimetype": "text/x-python",
   "name": "python",
   "nbconvert_exporter": "python",
   "pygments_lexer": "ipython3",
   "version": "3.8.3"
  }
 },
 "nbformat": 4,
 "nbformat_minor": 4
}
