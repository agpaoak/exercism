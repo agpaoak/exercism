{
 "cells": [
  {
   "cell_type": "code",
   "execution_count": 40,
   "metadata": {},
   "outputs": [],
   "source": [
    "import re\n",
    "\n",
    "class PhoneNumber:\n",
    "\n",
    "    def __init__(self, number):\n",
    "        err_msg = 'Sorry, invalid phone number'\n",
    "        \n",
    "        self.number = self.clean_number(number)\n",
    "        self.country_code = None\n",
    "        self.area_code = None\n",
    "        \n",
    "        if len(self.number) <= 9:\n",
    "            raise ValueError('Number too short')\n",
    "        elif len(self.number) == 11 and self.number[0] != '1':\n",
    "            raise ValueError('Invalid Country Code')\n",
    "        elif len(self.number) > 11:\n",
    "            raise ValueError('Length too long')\n",
    "        elif len(self.number) == 11:\n",
    "            self.country_code = self.number[0]\n",
    "            self.number = self.number[1:]\n",
    "        self.area_code = self.get_area_code(self.number)\n",
    "\n",
    "        if not self.is_valid_exchange_code(self.number):\n",
    "            raise ValueError('Invalid numbe')\n",
    "\n",
    "\n",
    "    def clean_number(self, number):\n",
    "        return re.sub('[^0-9]', '', number)\n",
    "\n",
    "\n",
    "    def get_area_code(self,number):\n",
    "        ac = number[0:3]\n",
    "        if not re.match(r'[2-9]', ac):\n",
    "            raise ValueError('Invalid Area Code')\n",
    "        else:\n",
    "            return ac\n",
    "\n",
    "\n",
    "    def is_valid_exchange_code(self, number):\n",
    "        print(number)\n",
    "        print(re.match(r'[2-9]', number))\n",
    "        return re.match(r'[2-9]', number)"
   ]
  },
  {
   "cell_type": "code",
   "execution_count": 1,
   "metadata": {
    "tags": []
   },
   "outputs": [
    {
     "output_type": "error",
     "ename": "NameError",
     "evalue": "name &#39;PhoneNumber&#39; is not defined",
     "traceback": [
      "\u001b[1;31m---------------------------------------------------------------------------\u001b[0m",
      "\u001b[1;31mNameError\u001b[0m                                 Traceback (most recent call last)",
      "\u001b[1;32m&lt;ipython-input-1-7892acf74385&gt;\u001b[0m in \u001b[0;36m&lt;module&gt;\u001b[1;34m\u001b[0m\n\u001b[1;32m----&gt; 1\u001b[1;33m \u001b[0mnumber\u001b[0m \u001b[1;33m=\u001b[0m \u001b[0mPhoneNumber\u001b[0m\u001b[1;33m(\u001b[0m\u001b[1;34m&quot;(223) 056-7890&quot;\u001b[0m\u001b[1;33m)\u001b[0m\u001b[1;33m\u001b[0m\u001b[1;33m\u001b[0m\u001b[0m\n\u001b[0m\u001b[0;32m      2\u001b[0m \u001b[0mprint\u001b[0m\u001b[1;33m(\u001b[0m\u001b[0mnumber\u001b[0m\u001b[1;33m.\u001b[0m\u001b[0mcountry_code\u001b[0m\u001b[1;33m)\u001b[0m\u001b[1;33m\u001b[0m\u001b[1;33m\u001b[0m\u001b[0m\n\u001b[0;32m      3\u001b[0m \u001b[0mprint\u001b[0m\u001b[1;33m(\u001b[0m\u001b[0mnumber\u001b[0m\u001b[1;33m.\u001b[0m\u001b[0marea_code\u001b[0m\u001b[1;33m)\u001b[0m\u001b[1;33m\u001b[0m\u001b[1;33m\u001b[0m\u001b[0m\n\u001b[0;32m      4\u001b[0m \u001b[0mprint\u001b[0m\u001b[1;33m(\u001b[0m\u001b[0mnumber\u001b[0m\u001b[1;33m.\u001b[0m\u001b[0mnumber\u001b[0m\u001b[1;33m[\u001b[0m\u001b[1;33m-\u001b[0m\u001b[1;36m4\u001b[0m\u001b[1;33m:\u001b[0m\u001b[1;33m]\u001b[0m\u001b[1;33m)\u001b[0m\u001b[1;33m\u001b[0m\u001b[1;33m\u001b[0m\u001b[0m\n",
      "\u001b[1;31mNameError\u001b[0m: name &#39;PhoneNumber&#39; is not defined"
     ]
    }
   ],
   "source": [
    "\n",
    "number = PhoneNumber(\"(223) 056-7890\")\n",
    "print(number.country_code)\n",
    "print(number.area_code)\n",
    "print(number.number[-4:])"
   ]
  },
  {
   "cell_type": "code",
   "execution_count": 1,
   "metadata": {
    "tags": []
   },
   "outputs": [
    {
     "output_type": "error",
     "ename": "ValueError",
     "evalue": "Invalid Length: 11",
     "traceback": [
      "\u001b[1;31m---------------------------------------------------------------------------\u001b[0m",
      "\u001b[1;31mValueError\u001b[0m                                Traceback (most recent call last)",
      "\u001b[1;32m&lt;ipython-input-1-211e8153ba83&gt;\u001b[0m in \u001b[0;36m&lt;module&gt;\u001b[1;34m\u001b[0m\n\u001b[0;32m     19\u001b[0m     \u001b[1;32mreturn\u001b[0m \u001b[0mcc\u001b[0m\u001b[1;33m\u001b[0m\u001b[1;33m\u001b[0m\u001b[0m\n\u001b[0;32m     20\u001b[0m \u001b[1;33m\u001b[0m\u001b[0m\n\u001b[1;32m---&gt; 21\u001b[1;33m \u001b[0mc_number\u001b[0m \u001b[1;33m=\u001b[0m \u001b[0mclean_number\u001b[0m\u001b[1;33m(\u001b[0m\u001b[0mnumber\u001b[0m\u001b[1;33m)\u001b[0m\u001b[1;33m\u001b[0m\u001b[1;33m\u001b[0m\u001b[0m\n\u001b[0m\u001b[0;32m     22\u001b[0m \u001b[0mprint\u001b[0m\u001b[1;33m(\u001b[0m\u001b[0mget_country_code\u001b[0m\u001b[1;33m(\u001b[0m\u001b[0mc_number\u001b[0m\u001b[1;33m)\u001b[0m\u001b[1;33m)\u001b[0m\u001b[1;33m\u001b[0m\u001b[1;33m\u001b[0m\u001b[0m\n",
      "\u001b[1;32m&lt;ipython-input-1-211e8153ba83&gt;\u001b[0m in \u001b[0;36mclean_number\u001b[1;34m(number)\u001b[0m\n\u001b[0;32m      7\u001b[0m     \u001b[0mlength\u001b[0m \u001b[1;33m=\u001b[0m \u001b[0mlen\u001b[0m\u001b[1;33m(\u001b[0m\u001b[0mtemp\u001b[0m\u001b[1;33m)\u001b[0m\u001b[1;33m\u001b[0m\u001b[1;33m\u001b[0m\u001b[0m\n\u001b[0;32m      8\u001b[0m     \u001b[1;32mif\u001b[0m \u001b[1;32mnot\u001b[0m \u001b[0mlength\u001b[0m \u001b[1;33m==\u001b[0m \u001b[1;36m10\u001b[0m \u001b[1;32mor\u001b[0m \u001b[0mlength\u001b[0m \u001b[1;33m!=\u001b[0m \u001b[1;36m11\u001b[0m\u001b[1;33m:\u001b[0m\u001b[1;33m\u001b[0m\u001b[1;33m\u001b[0m\u001b[0m\n\u001b[1;32m----&gt; 9\u001b[1;33m         \u001b[1;32mraise\u001b[0m \u001b[0mValueError\u001b[0m\u001b[1;33m(\u001b[0m\u001b[1;34mf&#39;Invalid Length: {len(temp)}&#39;\u001b[0m\u001b[1;33m)\u001b[0m\u001b[1;33m\u001b[0m\u001b[1;33m\u001b[0m\u001b[0m\n\u001b[0m\u001b[0;32m     10\u001b[0m     \u001b[1;32mreturn\u001b[0m \u001b[0mtemp\u001b[0m\u001b[1;33m\u001b[0m\u001b[1;33m\u001b[0m\u001b[0m\n\u001b[0;32m     11\u001b[0m \u001b[1;33m\u001b[0m\u001b[0m\n",
      "\u001b[1;31mValueError\u001b[0m: Invalid Length: 11"
     ]
    }
   ],
   "source": [
    "import re\n",
    "\n",
    "number=\"1(831) 229 - 3818\"\n",
    "\n",
    "def clean_number(number):\n",
    "    temp = re.sub('[^0-9]', '', number)\n",
    "    length = len(temp)\n",
    "    if not length == 10 or length != 11:\n",
    "        raise ValueError(f'Invalid Length: {len(temp)}')\n",
    "    return temp\n",
    "\n",
    "\n",
    "def get_country_code(number):\n",
    "    cc = None\n",
    "    if len(number) == 11:\n",
    "        cc = number[0]\n",
    "        if cc != '1':\n",
    "            raise ValueError('Invalid country code')\n",
    "    return cc\n",
    "\n",
    "c_number = clean_number(number)\n",
    "print(get_country_code(c_number))"
   ]
  },
  {
   "cell_type": "code",
   "execution_count": 11,
   "metadata": {
    "tags": []
   },
   "outputs": [
    {
     "output_type": "stream",
     "name": "stdout",
     "text": "None\n2293818\n2293818\n2293818\n"
    },
    {
     "output_type": "error",
     "ename": "AttributeError",
     "evalue": "&#39;str&#39; object has no attribute &#39;pop&#39;",
     "traceback": [
      "\u001b[1;31m---------------------------------------------------------------------------\u001b[0m",
      "\u001b[1;31mAttributeError\u001b[0m                            Traceback (most recent call last)",
      "\u001b[1;32m&lt;ipython-input-11-225c92245417&gt;\u001b[0m in \u001b[0;36m&lt;module&gt;\u001b[1;34m\u001b[0m\n\u001b[0;32m     16\u001b[0m \u001b[0mprint\u001b[0m\u001b[1;33m(\u001b[0m\u001b[0md11\u001b[0m\u001b[1;33m[\u001b[0m\u001b[1;36m4\u001b[0m\u001b[1;33m:\u001b[0m\u001b[1;33m]\u001b[0m\u001b[1;33m)\u001b[0m\u001b[1;33m\u001b[0m\u001b[1;33m\u001b[0m\u001b[0m\n\u001b[0;32m     17\u001b[0m \u001b[0mprint\u001b[0m\u001b[1;33m(\u001b[0m\u001b[0md10\u001b[0m\u001b[1;33m[\u001b[0m\u001b[1;36m3\u001b[0m\u001b[1;33m:\u001b[0m\u001b[1;33m]\u001b[0m\u001b[1;33m)\u001b[0m\u001b[1;33m\u001b[0m\u001b[1;33m\u001b[0m\u001b[0m\n\u001b[1;32m---&gt; 18\u001b[1;33m \u001b[0mprint\u001b[0m\u001b[1;33m(\u001b[0m\u001b[0md11\u001b[0m\u001b[1;33m.\u001b[0m\u001b[0mpop\u001b[0m\u001b[1;33m(\u001b[0m\u001b[1;36m0\u001b[0m\u001b[1;33m)\u001b[0m\u001b[1;33m)\u001b[0m\u001b[1;33m\u001b[0m\u001b[1;33m\u001b[0m\u001b[0m\n\u001b[0m",
      "\u001b[1;31mAttributeError\u001b[0m: &#39;str&#39; object has no attribute &#39;pop&#39;"
     ]
    }
   ],
   "source": [
    "d11 = '18312293818'\n",
    "d10 = '8312293818'\n",
    "\n",
    "\n",
    "def get_number(number):\n",
    "\n",
    "    n = None\n",
    "    if len(number) == 11:\n",
    "        n = number[4:]\n",
    "\n",
    "    return n\n",
    "\n",
    "print(get_number(d10))\n",
    "print(get_number(d11))\n",
    "\n",
    "print(d11[4:])\n",
    "print(d10[3:])\n",
    "print(d11.pop(0))"
   ]
  },
  {
   "cell_type": "code",
   "execution_count": 12,
   "metadata": {},
   "outputs": [
    {
     "output_type": "execute_result",
     "data": {
      "text/plain": "[&#39;18312293818&#39;]"
     },
     "metadata": {},
     "execution_count": 12
    }
   ],
   "source": [
    "d11 = '18312293818'\n",
    "temp = [c for c in clean_numbe(d11)]"
   ]
  }
 ],
 "metadata": {
  "kernelspec": {
   "display_name": "Python 3",
   "language": "python",
   "name": "python3"
  },
  "language_info": {
   "codemirror_mode": {
    "name": "ipython",
    "version": 3
   },
   "file_extension": ".py",
   "mimetype": "text/x-python",
   "name": "python",
   "nbconvert_exporter": "python",
   "pygments_lexer": "ipython3",
   "version": "3.8.3-final"
  }
 },
 "nbformat": 4,
 "nbformat_minor": 4
}