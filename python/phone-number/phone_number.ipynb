{
 "cells": [
  {
   "cell_type": "code",
   "execution_count": 167,
   "metadata": {},
   "outputs": [],
   "source": [
    "import re\n",
    "\n",
    "class PhoneNumber:\n",
    "\n",
    "    def __init__(self, number):\n",
    "        err_msg = 'Sorry, invalid phone number'\n",
    "        \n",
    "        self.number = self.clean_number(number)\n",
    "        self.country_code = None\n",
    "        \n",
    "        if not self.is_valid_length(number):\n",
    "            raise ValueError('Invalid number')\n",
    "        \n",
    "        if len(self.number) == 11 and self.number[0] != '1':\n",
    "            raise ValueError('Invalid number')\n",
    "        elif len(self.number) > 11:\n",
    "            raise ValueError('Length too long')   \n",
    "        elif len(self.number) == 11:\n",
    "            self.country_code = self.number[0]\n",
    "            self.number = self.number[1:]\n",
    "\n",
    "\n",
    "    def clean_number(self, number):\n",
    "        return re.sub('[^0-9]', '', number)\n",
    "\n",
    "\n",
    "    # Checkis for valid digit length\n",
    "    def is_valid_length(self, number):\n",
    "        if len(number) <= 9:\n",
    "            return False\n",
    "        else:\n",
    "            return True\n",
    "\n",
    "        "
   ]
  },
  {
   "cell_type": "code",
   "execution_count": 171,
   "metadata": {},
   "outputs": [
    {
     "name": "stdout",
     "output_type": "stream",
     "text": [
      "12\n",
      "1237890\n"
     ]
    }
   ],
   "source": [
    "\n",
    "number = PhoneNumber(\"123-abc-7890\")\n",
    "print(number.number)"
   ]
  },
  {
   "cell_type": "code",
   "execution_count": 121,
   "metadata": {},
   "outputs": [
    {
     "name": "stdout",
     "output_type": "stream",
     "text": [
      "1\n",
      "10\n"
     ]
    }
   ],
   "source": [
    "print(\"12234567890\"[0])\n",
    "print(len(\"12234567890\"[1:]))"
   ]
  },
  {
   "cell_type": "code",
   "execution_count": 49,
   "metadata": {},
   "outputs": [
    {
     "name": "stdout",
     "output_type": "stream",
     "text": [
      "it's here!\n"
     ]
    }
   ],
   "source": [
    "import re\n",
    "import string\n",
    "\n",
    "alpha = string.ascii_lowercase\n",
    "s1 = '123abc'\n",
    "\n",
    "\n",
    "if not re.search('[a-bA-b0]', s1):\n",
    "    print('Nothing to see here')\n",
    "else:\n",
    "    print(\"it's here!\")"
   ]
  }
 ],
 "metadata": {
  "kernelspec": {
   "display_name": "Python 3",
   "language": "python",
   "name": "python3"
  },
  "language_info": {
   "codemirror_mode": {
    "name": "ipython",
    "version": 3
   },
   "file_extension": ".py",
   "mimetype": "text/x-python",
   "name": "python",
   "nbconvert_exporter": "python",
   "pygments_lexer": "ipython3",
   "version": "3.8.3"
  }
 },
 "nbformat": 4,
 "nbformat_minor": 4
}
